{
 "cells": [
  {
   "cell_type": "markdown",
   "id": "88f699b0-9607-402e-b852-53c6e5cc76c4",
   "metadata": {},
   "source": [
    "# 1. Setup"
   ]
  },
  {
   "cell_type": "markdown",
   "id": "68421445-1b21-49de-8545-2e12ec8b7c9b",
   "metadata": {},
   "source": [
    "## 1.1 Import Dependencies"
   ]
  },
  {
   "cell_type": "code",
   "execution_count": 1,
   "id": "664b6d21-8681-442c-b8e7-a867643e18bc",
   "metadata": {},
   "outputs": [],
   "source": [
    "import os\n",
    "import uuid\n",
    "import random\n",
    "import numpy as np\n",
    "import cv2\n",
    "from matplotlib import pyplot as plt"
   ]
  },
  {
   "cell_type": "code",
   "execution_count": 2,
   "id": "72c3ef7e-c4c9-45fd-b8ed-ee14c45a8c7b",
   "metadata": {},
   "outputs": [],
   "source": [
    "#functional api (sıralı değil daha çok parçalı)\n",
    "from tensorflow.keras.models import Model\n",
    "from tensorflow.keras.layers import Layer, Conv2D, Dense, MaxPooling2D, Input, Flatten\n",
    "import tensorflow as tf"
   ]
  },
  {
   "cell_type": "markdown",
   "id": "86006062-353a-467d-b0fc-9a6dbea7d634",
   "metadata": {},
   "source": [
    "## 1.2 Set GPU Growth"
   ]
  },
  {
   "cell_type": "code",
   "execution_count": 3,
   "id": "4a95c0b7-6de3-4569-9ec5-2b6990dee94f",
   "metadata": {},
   "outputs": [],
   "source": [
    "#kaynak sızıntısını engeller\n",
    "physical_devices = tf.config.experimental.list_physical_devices('GPU') \n",
    "for gpu_instance in physical_devices: \n",
    "    tf.config.experimental.set_memory_growth(gpu_instance, True)"
   ]
  },
  {
   "cell_type": "markdown",
   "id": "cc642f08-8d00-4838-9e20-65f99d802b3c",
   "metadata": {},
   "source": [
    "## 1.3 Create Folder Structures"
   ]
  },
  {
   "cell_type": "code",
   "execution_count": 4,
   "id": "a1148336-be04-464e-82fb-f2f347915c55",
   "metadata": {},
   "outputs": [],
   "source": [
    "POS_PATH = os.path.join('data','positive')\n",
    "NEG_PATH = os.path.join('data','negative')\n",
    "ANC_PATH = os.path.join('data','anchor')"
   ]
  },
  {
   "cell_type": "code",
   "execution_count": 5,
   "id": "cf1e8f35-d14d-4127-89f1-395162d6e177",
   "metadata": {},
   "outputs": [],
   "source": [
    "os.makedirs(POS_PATH)\n",
    "os.makedirs(NEG_PATH)\n",
    "os.makedirs(ANC_PATH)"
   ]
  },
  {
   "cell_type": "markdown",
   "id": "5256e132-f206-43ad-b9d4-01d5a3e821e9",
   "metadata": {},
   "source": [
    "# 2. Collect Positives and Anchors"
   ]
  },
  {
   "cell_type": "markdown",
   "id": "2236ffa6-56e9-4727-8779-16451116e73e",
   "metadata": {},
   "source": [
    "## 2.1 Untar Labelled Faces in the Wild Dataset"
   ]
  },
  {
   "cell_type": "code",
   "execution_count": 7,
   "id": "19bf6660-9889-48f3-bf49-cbeba0ead31c",
   "metadata": {},
   "outputs": [],
   "source": [
    "#uncompress tgz\n",
    "!tar -xf lfw.tgz"
   ]
  },
  {
   "cell_type": "code",
   "execution_count": 17,
   "id": "9ff4bc11-3c62-438c-9ec4-5538b83c8dec",
   "metadata": {},
   "outputs": [],
   "source": [
    "for directory in os.listdir('lfw'):\n",
    "    for file in os.listdir(os.path.join('lfw', directory)):\n",
    "        EX_PATH = os.path.join('lfw', directory, file)\n",
    "        NEW_PATH = os.path.join(NEG_PATH, file)\n",
    "        os.replace(EX_PATH, NEW_PATH)"
   ]
  },
  {
   "cell_type": "markdown",
   "id": "8e9423b7-f82c-49ac-b00f-c0791d6a69f3",
   "metadata": {},
   "source": [
    "## 2.2 Collect Positive and Anchor Classes"
   ]
  },
  {
   "cell_type": "code",
   "execution_count": 6,
   "id": "03df8453-dc04-4fbb-8fb7-9e414dda76df",
   "metadata": {},
   "outputs": [],
   "source": [
    "cap = cv2.VideoCapture(0)\n",
    "\n",
    "while cap.isOpened():\n",
    "    ret, frame = cap.read()\n",
    "    reshape_frame = frame[100:350, 100:350]\n",
    "    \n",
    "    cv2.imshow('reshape_frame', reshape_frame)\n",
    "    \n",
    "    #collect anchor and positive\n",
    "    #if cv2.waitKey(1) & 0XFF == ord('a'):\n",
    "    #    rnd = str(random.randint(1000000, 10000000))+'.jpg'\n",
    "\n",
    "    #    if rnd not in os.listdir(ANC_PATH):\n",
    "    #        cv2.imwrite(os.path.join(ANC_PATH, rnd), reshape_frame)\n",
    "            \n",
    "    #if cv2.waitKey(1) & 0XFF == ord('p'):\n",
    "    #    rnd = str(random.randint(10000000, 100000000))+'.jpg'\n",
    "\n",
    "    #    if rnd not in os.listdir(POS_PATH):\n",
    "    #        cv2.imwrite(os.path.join(POS_PATH, rnd), reshape_frame)\n",
    "            \n",
    "    #collect anchor images\n",
    "    if cv2.waitKey(1) & 0XFF == ord('a'):\n",
    "        imgname = os.path.join(ANC_PATH, '{}.jpg'.format(uuid.uuid1()))\n",
    "        cv2.imwrite(imgname, reshape_frame)\n",
    "    \n",
    "    # collect positive images\n",
    "    if cv2.waitKey(1) & 0XFF == ord('p'):\n",
    "        imgname = os.path.join(POS_PATH, '{}.jpg'.format(uuid.uuid1()))\n",
    "        cv2.imwrite(imgname, reshape_frame)        \n",
    "    \n",
    "    if cv2.waitKey(1) & 0XFF == ord('q'):\n",
    "        break\n",
    "        \n",
    "cap.release()\n",
    "cv2.destroyAllWindows()"
   ]
  },
  {
   "cell_type": "markdown",
   "id": "f9b36272-2840-4690-943d-4c0c37134291",
   "metadata": {},
   "source": [
    "# 3. Load and Preprocess Image"
   ]
  },
  {
   "cell_type": "markdown",
   "id": "3ec145a0-5b0a-4e2f-8f78-f192e6b7a6b6",
   "metadata": {},
   "source": [
    "## 3.1 Get Image Directories"
   ]
  },
  {
   "cell_type": "code",
   "execution_count": 5,
   "id": "3013b108-b5c2-4030-a20c-e3ddcffce81f",
   "metadata": {},
   "outputs": [],
   "source": [
    "anchor = tf.data.Dataset.list_files(ANC_PATH+'\\*.jpg').take(300)\n",
    "positive = tf.data.Dataset.list_files(POS_PATH+'\\*.jpg').take(300)\n",
    "negative = tf.data.Dataset.list_files(NEG_PATH+'\\*.jpg').take(300)"
   ]
  },
  {
   "cell_type": "code",
   "execution_count": 6,
   "id": "0667abce-d51e-4edc-b020-5189b65a1f5d",
   "metadata": {},
   "outputs": [
    {
     "data": {
      "text/plain": [
       "b'data\\\\positive\\\\b6b4a093-5110-11ec-9ecf-54e1ad8c1dfd.jpg'"
      ]
     },
     "execution_count": 6,
     "metadata": {},
     "output_type": "execute_result"
    }
   ],
   "source": [
    "pos_test = positive.as_numpy_iterator()\n",
    "pos_test.next()"
   ]
  },
  {
   "cell_type": "markdown",
   "id": "079437a0-8321-412a-8175-9c8b2156653c",
   "metadata": {},
   "source": [
    "## 3.2 Preprocessing Resize and Scale"
   ]
  },
  {
   "cell_type": "code",
   "execution_count": 7,
   "id": "8dd264af-d0ef-4d67-95c9-2a91cad8c831",
   "metadata": {},
   "outputs": [],
   "source": [
    "def preprocess(file_path):\n",
    "    byte_img = tf.io.read_file(file_path)\n",
    "    img = tf.io.decode_jpeg(byte_img)\n",
    "    img = tf.image.resize(img, (100,100))\n",
    "    img = img / 255.0\n",
    "    return img"
   ]
  },
  {
   "cell_type": "code",
   "execution_count": null,
   "id": "e82b32b7-d916-490a-9689-a8fd00728cfc",
   "metadata": {},
   "outputs": [],
   "source": [
    "plt.imshow(preprocess(pos_test.next()))"
   ]
  },
  {
   "cell_type": "markdown",
   "id": "381f3547-9b42-4a45-8cf8-1f32e48e79ed",
   "metadata": {},
   "source": [
    "## 3.3 Create Labelled Dataset"
   ]
  },
  {
   "cell_type": "code",
   "execution_count": 9,
   "id": "68a8bbda-3a91-4e7f-bcaf-6563d6578014",
   "metadata": {},
   "outputs": [],
   "source": [
    "# anchor, positive => 1,1,1,1\n",
    "# anchor, negative => 0,0,0,0"
   ]
  },
  {
   "cell_type": "code",
   "execution_count": 10,
   "id": "0d92fae0-92e4-4dad-b4fa-ecfef7edc687",
   "metadata": {},
   "outputs": [],
   "source": [
    "positives = tf.data.Dataset.zip((anchor, positive, tf.data.Dataset.from_tensor_slices(tf.ones(len(anchor))))) \n",
    "negatives = tf.data.Dataset.zip((anchor, negative, tf.data.Dataset.from_tensor_slices(tf.zeros(len(anchor))))) \n",
    "data = positives.concatenate(negatives)"
   ]
  },
  {
   "cell_type": "code",
   "execution_count": 11,
   "id": "999e1826-a04d-48d5-a41d-ab46df6406ec",
   "metadata": {},
   "outputs": [],
   "source": [
    "data_test = data.as_numpy_iterator()"
   ]
  },
  {
   "cell_type": "code",
   "execution_count": 12,
   "id": "f801eef0-9f9d-4240-b702-9d01d08f564d",
   "metadata": {},
   "outputs": [
    {
     "data": {
      "text/plain": [
       "(b'data\\\\anchor\\\\634d81f1-5110-11ec-9b2d-54e1ad8c1dfd.jpg',\n",
       " b'data\\\\positive\\\\b54ec1e1-5110-11ec-a7c9-54e1ad8c1dfd.jpg',\n",
       " 1.0)"
      ]
     },
     "execution_count": 12,
     "metadata": {},
     "output_type": "execute_result"
    }
   ],
   "source": [
    "data_test.next()"
   ]
  },
  {
   "cell_type": "markdown",
   "id": "14a63f8b-3994-4772-a00e-e09bae4be043",
   "metadata": {},
   "source": [
    "## 3.4 Build Train and Test Partition"
   ]
  },
  {
   "cell_type": "code",
   "execution_count": 13,
   "id": "ac16f0ef-fa11-441b-9b68-0ce023906e98",
   "metadata": {},
   "outputs": [],
   "source": [
    "def preprocess_twin(input_img, validation_img, label):\n",
    "    return (preprocess(input_img), preprocess(validation_img), label)"
   ]
  },
  {
   "cell_type": "code",
   "execution_count": 14,
   "id": "3e12fb84-b54d-482f-8e9f-d530ad759757",
   "metadata": {
    "tags": []
   },
   "outputs": [
    {
     "data": {
      "text/plain": [
       "(<tf.Tensor: shape=(100, 100, 3), dtype=float32, numpy=\n",
       " array([[[0.5007353 , 0.5007353 , 0.5007353 ],\n",
       "         [0.5004902 , 0.5004902 , 0.4985294 ],\n",
       "         [0.49240196, 0.49240196, 0.48455882],\n",
       "         ...,\n",
       "         [0.4090686 , 0.36985293, 0.36593136],\n",
       "         [0.4154412 , 0.3762255 , 0.36936274],\n",
       "         [0.41936275, 0.38014707, 0.37230393]],\n",
       " \n",
       "        [[0.48357844, 0.49142158, 0.4875    ],\n",
       "         [0.49779412, 0.5036765 , 0.4987745 ],\n",
       "         [0.50808823, 0.50808823, 0.5002451 ],\n",
       "         ...,\n",
       "         [0.50784314, 0.46764705, 0.4598039 ],\n",
       "         [0.44632354, 0.40612745, 0.39632353],\n",
       "         [0.4715686 , 0.42843136, 0.41862744]],\n",
       " \n",
       "        [[0.4610294 , 0.46887255, 0.46495098],\n",
       "         [0.4745098 , 0.48039216, 0.47549018],\n",
       "         [0.47867647, 0.47867647, 0.47083333],\n",
       "         ...,\n",
       "         [0.5107843 , 0.46764705, 0.45343137],\n",
       "         [0.48039216, 0.4372549 , 0.42156863],\n",
       "         [0.49632353, 0.44436276, 0.43161765]],\n",
       " \n",
       "        ...,\n",
       " \n",
       "        [[0.74828434, 0.76691175, 0.79338235],\n",
       "         [0.74264705, 0.7593137 , 0.7887255 ],\n",
       "         [0.84044117, 0.85612744, 0.8977941 ],\n",
       "         ...,\n",
       "         [0.27083334, 0.27794117, 0.27622548],\n",
       "         [0.28210783, 0.2840686 , 0.28308824],\n",
       "         [0.2784314 , 0.2784314 , 0.2784314 ]],\n",
       " \n",
       "        [[0.7345588 , 0.7502451 , 0.7855392 ],\n",
       "         [0.7583333 , 0.76985294, 0.80588233],\n",
       "         [0.84387255, 0.85833335, 0.8958333 ],\n",
       "         ...,\n",
       "         [0.3625    , 0.36666667, 0.3737745 ],\n",
       "         [0.35049018, 0.35612744, 0.35514706],\n",
       "         [0.28014705, 0.2860294 , 0.28308824]],\n",
       " \n",
       "        [[0.6872549 , 0.7147059 , 0.74607843],\n",
       "         [0.7443628 , 0.7620098 , 0.7865196 ],\n",
       "         [0.8333333 , 0.845098  , 0.872549  ],\n",
       "         ...,\n",
       "         [0.34044117, 0.35318628, 0.36397058],\n",
       "         [0.33995098, 0.34387255, 0.35171568],\n",
       "         [0.3870098 , 0.39485294, 0.39093137]]], dtype=float32)>,\n",
       " <tf.Tensor: shape=(100, 100, 3), dtype=float32, numpy=\n",
       " array([[[0.5330882 , 0.5487745 , 0.5448529 ],\n",
       "         [0.5142157 , 0.53382355, 0.5181373 ],\n",
       "         [0.5379902 , 0.55759805, 0.5360294 ],\n",
       "         ...,\n",
       "         [0.44460785, 0.4269608 , 0.43186274],\n",
       "         [0.44730392, 0.4237745 , 0.43161765],\n",
       "         [0.45759803, 0.43406862, 0.43406862]],\n",
       " \n",
       "        [[0.5208333 , 0.5365196 , 0.532598  ],\n",
       "         [0.5259804 , 0.54558825, 0.529902  ],\n",
       "         [0.53455883, 0.5541667 , 0.53406864],\n",
       "         ...,\n",
       "         [0.51887256, 0.49338236, 0.48480392],\n",
       "         [0.47181374, 0.4389706 , 0.43088236],\n",
       "         [0.49803922, 0.46495098, 0.45563725]],\n",
       " \n",
       "        [[0.49142158, 0.5129902 , 0.5061275 ],\n",
       "         [0.5029412 , 0.5254902 , 0.50980395],\n",
       "         [0.49632353, 0.51887256, 0.5031863 ],\n",
       "         ...,\n",
       "         [0.5470588 , 0.51642156, 0.502451  ],\n",
       "         [0.47132352, 0.44142157, 0.42156863],\n",
       "         [0.5323529 , 0.5029412 , 0.48039216]],\n",
       " \n",
       "        ...,\n",
       " \n",
       "        [[0.74485296, 0.8183824 , 0.8355392 ],\n",
       "         [0.7752451 , 0.8330882 , 0.8448529 ],\n",
       "         [0.93602943, 0.9762255 , 0.98112744],\n",
       "         ...,\n",
       "         [0.17990196, 0.17794117, 0.17892157],\n",
       "         [0.18578431, 0.18382353, 0.18627451],\n",
       "         [0.19117647, 0.18921569, 0.19215687]],\n",
       " \n",
       "        [[0.7406863 , 0.80245095, 0.8137255 ],\n",
       "         [0.777451  , 0.8382353 , 0.8392157 ],\n",
       "         [0.9137255 , 0.95490193, 0.9519608 ],\n",
       "         ...,\n",
       "         [0.1872549 , 0.17941177, 0.18480392],\n",
       "         [0.18529412, 0.17745098, 0.18872549],\n",
       "         [0.18210784, 0.1742647 , 0.1860294 ]],\n",
       " \n",
       "        [[0.71960783, 0.77843136, 0.79019606],\n",
       "         [0.7632353 , 0.8161765 , 0.81911767],\n",
       "         [0.89656866, 0.93284315, 0.93039215],\n",
       "         ...,\n",
       "         [0.18112744, 0.1732843 , 0.18504901],\n",
       "         [0.18627451, 0.17843138, 0.19019608],\n",
       "         [0.20392157, 0.19607843, 0.20784314]]], dtype=float32)>,\n",
       " 1.0)"
      ]
     },
     "execution_count": 14,
     "metadata": {},
     "output_type": "execute_result"
    }
   ],
   "source": [
    "preprocess_twin(*data_test.next())#dynamic arg"
   ]
  },
  {
   "cell_type": "code",
   "execution_count": 15,
   "id": "e624f4a3-9fc0-4530-8f90-1c3f9e63195a",
   "metadata": {},
   "outputs": [],
   "source": [
    "#dataloader pipeline\n",
    "data = data.map(preprocess_twin)#tek tek hepsine uygular\n",
    "data = data.cache()\n",
    "data = data.shuffle(buffer_size=1024)"
   ]
  },
  {
   "cell_type": "code",
   "execution_count": 16,
   "id": "032aa4ae-047e-419f-99a1-4c84760fc74b",
   "metadata": {},
   "outputs": [],
   "source": [
    "data_test = data.as_numpy_iterator()"
   ]
  },
  {
   "cell_type": "code",
   "execution_count": 17,
   "id": "365ed816-aa1b-4605-9b4d-8ee9b4062f7a",
   "metadata": {
    "tags": []
   },
   "outputs": [
    {
     "data": {
      "text/plain": [
       "(array([[[0.4852941 , 0.4852941 , 0.4852941 ],\n",
       "         [0.49019608, 0.48921567, 0.4872549 ],\n",
       "         [0.49926472, 0.49534315, 0.48161766],\n",
       "         ...,\n",
       "         [0.43137255, 0.38431373, 0.38431373],\n",
       "         [0.42941177, 0.38382354, 0.38308823],\n",
       "         [0.422549  , 0.38333333, 0.37941176]],\n",
       " \n",
       "        [[0.4757353 , 0.4776961 , 0.4747549 ],\n",
       "         [0.48431373, 0.48455882, 0.4759804 ],\n",
       "         [0.48872548, 0.4875    , 0.47230393],\n",
       "         ...,\n",
       "         [0.47892156, 0.42205882, 0.41911766],\n",
       "         [0.45588234, 0.3990196 , 0.39607844],\n",
       "         [0.45147058, 0.3973039 , 0.39338234]],\n",
       " \n",
       "        [[0.46666667, 0.4745098 , 0.4627451 ],\n",
       "         [0.46078432, 0.46617648, 0.45318627],\n",
       "         [0.45759803, 0.4615196 , 0.44191176],\n",
       "         ...,\n",
       "         [0.5205882 , 0.46078432, 0.45196077],\n",
       "         [0.4982843 , 0.4384804 , 0.42965686],\n",
       "         [0.49215686, 0.43235293, 0.42352942]],\n",
       " \n",
       "        ...,\n",
       " \n",
       "        [[0.2247549 , 0.21176471, 0.20759805],\n",
       "         [0.31887254, 0.30612746, 0.29534313],\n",
       "         [0.4227941 , 0.41887254, 0.40514705],\n",
       "         ...,\n",
       "         [0.4370098 , 0.49068627, 0.51053923],\n",
       "         [0.40857843, 0.4644608 , 0.4762255 ],\n",
       "         [0.3764706 , 0.43235293, 0.44411764]],\n",
       " \n",
       "        [[0.23161764, 0.22965686, 0.23063725],\n",
       "         [0.3112745 , 0.31029412, 0.30686274],\n",
       "         [0.25269607, 0.25245097, 0.24901961],\n",
       "         ...,\n",
       "         [0.49093136, 0.55857843, 0.5732843 ],\n",
       "         [0.46568626, 0.53333336, 0.5421569 ],\n",
       "         [0.48357844, 0.5512255 , 0.5541667 ]],\n",
       " \n",
       "        [[0.22769608, 0.23553921, 0.23161764],\n",
       "         [0.22990195, 0.23774509, 0.23382352],\n",
       "         [0.21642157, 0.21838236, 0.22328432],\n",
       "         ...,\n",
       "         [0.47965688, 0.5502451 , 0.55808824],\n",
       "         [0.49730393, 0.56789213, 0.5757353 ],\n",
       "         [0.48455882, 0.5629902 , 0.5590686 ]]], dtype=float32),\n",
       " array([[[0.51691175, 0.54044116, 0.532598  ],\n",
       "         [0.51740193, 0.54093134, 0.5330882 ],\n",
       "         [0.5235294 , 0.5470588 , 0.5392157 ],\n",
       "         ...,\n",
       "         [0.45294118, 0.41960785, 0.40882352],\n",
       "         [0.4622549 , 0.4259804 , 0.40931374],\n",
       "         [0.46666667, 0.43137255, 0.40392157]],\n",
       " \n",
       "        [[0.5058824 , 0.5294118 , 0.52156866],\n",
       "         [0.5088235 , 0.5323529 , 0.5245098 ],\n",
       "         [0.5058824 , 0.5294118 , 0.52156866],\n",
       "         ...,\n",
       "         [0.51862746, 0.4897059 , 0.46691176],\n",
       "         [0.47696078, 0.4495098 , 0.4245098 ],\n",
       "         [0.4735294 , 0.44607842, 0.41470587]],\n",
       " \n",
       "        [[0.49411765, 0.5176471 , 0.50980395],\n",
       "         [0.49509802, 0.51862746, 0.5107843 ],\n",
       "         [0.49264705, 0.5117647 , 0.5061275 ],\n",
       "         ...,\n",
       "         [0.53210783, 0.4987745 , 0.47230393],\n",
       "         [0.49215686, 0.46470588, 0.43382353],\n",
       "         [0.5294118 , 0.5019608 , 0.47058824]],\n",
       " \n",
       "        ...,\n",
       " \n",
       "        [[0.7512255 , 0.8061274 , 0.81789213],\n",
       "         [0.7142157 , 0.7710784 , 0.7995098 ],\n",
       "         [0.7085784 , 0.7477941 , 0.7742647 ],\n",
       "         ...,\n",
       "         [0.21421568, 0.19975491, 0.21568628],\n",
       "         [0.20980392, 0.20196079, 0.22009803],\n",
       "         [0.2125    , 0.20465687, 0.22426471]],\n",
       " \n",
       "        [[0.7017157 , 0.76029414, 0.77205884],\n",
       "         [0.7389706 , 0.8017157 , 0.82867646],\n",
       "         [0.76593137, 0.8031863 , 0.8237745 ],\n",
       "         ...,\n",
       "         [0.19019608, 0.18235295, 0.20196079],\n",
       "         [0.19828431, 0.19044118, 0.21004902],\n",
       "         [0.21568628, 0.20490196, 0.23039216]],\n",
       " \n",
       "        [[0.7053922 , 0.7642157 , 0.7759804 ],\n",
       "         [0.7558824 , 0.8186275 , 0.845098  ],\n",
       "         [0.8598039 , 0.9       , 0.9098039 ],\n",
       "         ...,\n",
       "         [0.19191177, 0.18308823, 0.20465687],\n",
       "         [0.19558823, 0.18382353, 0.2112745 ],\n",
       "         [0.19117647, 0.17941177, 0.20686275]]], dtype=float32),\n",
       " 1.0)"
      ]
     },
     "execution_count": 17,
     "metadata": {},
     "output_type": "execute_result"
    }
   ],
   "source": [
    "data_test.next()"
   ]
  },
  {
   "cell_type": "code",
   "execution_count": 18,
   "id": "92933291-53c7-4906-b47f-fc274f9b68ff",
   "metadata": {},
   "outputs": [],
   "source": [
    "#training partition\n",
    "train_data = data.take(round(len(data)*.7))\n",
    "train_data = train_data.batch(16)\n",
    "train_data = train_data.prefetch(8)#sonraki grubu önceden işler"
   ]
  },
  {
   "cell_type": "code",
   "execution_count": 19,
   "id": "a1cfc99d-c5d8-4b18-ad4b-725de21dd8dd",
   "metadata": {},
   "outputs": [],
   "source": [
    "#test partition\n",
    "test_data = data.skip(round(len(data)*.7))#sonraki 30 u geçer\n",
    "test_data = data.take(round(len(data)*.3))\n",
    "test_data = test_data.batch(16)\n",
    "test_data = test_data.prefetch(8)#sonraki grubu önceden işler"
   ]
  },
  {
   "cell_type": "markdown",
   "id": "6c968ff5-c38c-4958-8da0-db5097d98308",
   "metadata": {},
   "source": [
    "# 4. Model Engineering"
   ]
  },
  {
   "cell_type": "markdown",
   "id": "e0f8d42e-97a9-44cf-a79a-94ef8f9da1b0",
   "metadata": {},
   "source": [
    "## 4.1 Build Embeding Layer"
   ]
  },
  {
   "cell_type": "code",
   "execution_count": 20,
   "id": "6c726783-83e7-4860-84fe-80590524a039",
   "metadata": {},
   "outputs": [],
   "source": [
    "def make_embedding():\n",
    "    inp = Input(shape = (100, 100, 3), name = 'input_image')\n",
    "    \n",
    "    c1 = Conv2D(64, (10, 10), activation = 'relu')(inp)\n",
    "    m1 = MaxPooling2D(64, (2,2), padding = 'same')(c1)\n",
    "    \n",
    "    c2 = Conv2D(128, (7, 7), activation = 'relu')(m1)\n",
    "    m2 = MaxPooling2D(64, (2,2), padding = 'same')(c2)\n",
    "    \n",
    "    c3 = Conv2D(128, (4, 4), activation = 'relu')(m2)\n",
    "    m3 = MaxPooling2D(64, (2,2), padding = 'same')(c3)\n",
    "    \n",
    "    c4 = Conv2D(256, (4, 4), activation = 'relu')(m3)\n",
    "    f1 = Flatten()(c4)\n",
    "    d1 = Dense(4096, activation = 'sigmoid')(f1)\n",
    "    \n",
    "    return Model(inputs=[inp], outputs=[d1], name='embeding')"
   ]
  },
  {
   "cell_type": "code",
   "execution_count": 21,
   "id": "1a8026e2-0e82-4092-ba09-f9cd158f2ff8",
   "metadata": {},
   "outputs": [],
   "source": [
    "embedding = make_embedding()"
   ]
  },
  {
   "cell_type": "code",
   "execution_count": 22,
   "id": "7347575e-f79a-433a-9e73-9b6a13148de7",
   "metadata": {},
   "outputs": [
    {
     "name": "stdout",
     "output_type": "stream",
     "text": [
      "Model: \"embeding\"\n",
      "_________________________________________________________________\n",
      "Layer (type)                 Output Shape              Param #   \n",
      "=================================================================\n",
      "input_image (InputLayer)     [(None, 100, 100, 3)]     0         \n",
      "_________________________________________________________________\n",
      "conv2d (Conv2D)              (None, 91, 91, 64)        19264     \n",
      "_________________________________________________________________\n",
      "max_pooling2d (MaxPooling2D) (None, 46, 46, 64)        0         \n",
      "_________________________________________________________________\n",
      "conv2d_1 (Conv2D)            (None, 40, 40, 128)       401536    \n",
      "_________________________________________________________________\n",
      "max_pooling2d_1 (MaxPooling2 (None, 20, 20, 128)       0         \n",
      "_________________________________________________________________\n",
      "conv2d_2 (Conv2D)            (None, 17, 17, 128)       262272    \n",
      "_________________________________________________________________\n",
      "max_pooling2d_2 (MaxPooling2 (None, 9, 9, 128)         0         \n",
      "_________________________________________________________________\n",
      "conv2d_3 (Conv2D)            (None, 6, 6, 256)         524544    \n",
      "_________________________________________________________________\n",
      "flatten (Flatten)            (None, 9216)              0         \n",
      "_________________________________________________________________\n",
      "dense (Dense)                (None, 4096)              37752832  \n",
      "=================================================================\n",
      "Total params: 38,960,448\n",
      "Trainable params: 38,960,448\n",
      "Non-trainable params: 0\n",
      "_________________________________________________________________\n"
     ]
    }
   ],
   "source": [
    "embedding.summary()"
   ]
  },
  {
   "cell_type": "markdown",
   "id": "422b1799-e4f1-420d-93fd-80e0bb98f945",
   "metadata": {},
   "source": [
    "## 4.2 Build Distance Layer"
   ]
  },
  {
   "cell_type": "code",
   "execution_count": 23,
   "id": "bb1536d3-ba7e-4cb1-90b9-388e8e5284ac",
   "metadata": {},
   "outputs": [],
   "source": [
    "class L1Dist(Layer):\n",
    "    def __init__(self, **kwargs):\n",
    "        super().__init__()\n",
    "        \n",
    "    def call(self, input_embedding, validation_embedding):\n",
    "        return tf.math.abs(input_embedding - validation_embedding)"
   ]
  },
  {
   "cell_type": "code",
   "execution_count": 24,
   "id": "e9cfb501-6bf6-4d93-8a2e-cd4add6be0b5",
   "metadata": {},
   "outputs": [],
   "source": [
    "l1 = L1Dist()"
   ]
  },
  {
   "cell_type": "markdown",
   "id": "f7984a3a-370f-4ea1-951b-1d3628aa0235",
   "metadata": {},
   "source": [
    "## 4.3 Make Siamese Model"
   ]
  },
  {
   "cell_type": "code",
   "execution_count": 25,
   "id": "94fa279b-20e0-4993-82c5-f22779b6564e",
   "metadata": {},
   "outputs": [],
   "source": [
    "def make_siamese_model():\n",
    "    \n",
    "    #anchor and valid input\n",
    "    input_image = Input(name = 'input_img', shape = (100,100,3))\n",
    "    validation_image = Input(name = 'validation_img', shape = (100,100,3))\n",
    "    \n",
    "    #anchor and neg or pos\n",
    "    embedding = make_embedding()\n",
    "    inp_embedding = embedding(input_image)\n",
    "    val_embedding  = embedding(validation_image)\n",
    "    \n",
    "    #siamese layer\n",
    "    siamese_layer = L1Dist(name = 'distance')\n",
    "    distances = siamese_layer(inp_embedding, val_embedding)\n",
    "    \n",
    "    #classifier layer\n",
    "    classifier = Dense(1, activation='sigmoid')(distances)\n",
    "    \n",
    "    return Model(inputs = [input_image, validation_image], outputs = classifier, name ='SiameseNetwork')"
   ]
  },
  {
   "cell_type": "code",
   "execution_count": 26,
   "id": "911edf5e-14ef-49cb-b11a-64d06906bba1",
   "metadata": {},
   "outputs": [
    {
     "name": "stdout",
     "output_type": "stream",
     "text": [
      "Model: \"SiameseNetwork\"\n",
      "__________________________________________________________________________________________________\n",
      "Layer (type)                    Output Shape         Param #     Connected to                     \n",
      "==================================================================================================\n",
      "input_img (InputLayer)          [(None, 100, 100, 3) 0                                            \n",
      "__________________________________________________________________________________________________\n",
      "validation_img (InputLayer)     [(None, 100, 100, 3) 0                                            \n",
      "__________________________________________________________________________________________________\n",
      "embeding (Functional)           (None, 4096)         38960448    input_img[0][0]                  \n",
      "                                                                 validation_img[0][0]             \n",
      "__________________________________________________________________________________________________\n",
      "l1_dist_1 (L1Dist)              (None, 4096)         0           embeding[0][0]                   \n",
      "                                                                 embeding[1][0]                   \n",
      "__________________________________________________________________________________________________\n",
      "dense_2 (Dense)                 (None, 1)            4097        l1_dist_1[0][0]                  \n",
      "==================================================================================================\n",
      "Total params: 38,964,545\n",
      "Trainable params: 38,964,545\n",
      "Non-trainable params: 0\n",
      "__________________________________________________________________________________________________\n"
     ]
    }
   ],
   "source": [
    "siamese_model = make_siamese_model()\n",
    "siamese_model.summary()"
   ]
  },
  {
   "cell_type": "markdown",
   "id": "20f6bbd8-8df6-439a-b572-a3a481bb97ad",
   "metadata": {},
   "source": [
    "# 5. Training"
   ]
  },
  {
   "cell_type": "markdown",
   "id": "aa0c860e-9755-4998-b9b7-e2db502d3632",
   "metadata": {},
   "source": [
    "## 5.1 Setup Loss and Optimizer"
   ]
  },
  {
   "cell_type": "code",
   "execution_count": 27,
   "id": "7813e7e2-30af-47b5-82bd-6ffedad354f2",
   "metadata": {},
   "outputs": [],
   "source": [
    "binary_crossentropy = tf.losses.BinaryCrossentropy()"
   ]
  },
  {
   "cell_type": "code",
   "execution_count": 28,
   "id": "c8fa6469-2998-4dbe-a321-61458fb7fb17",
   "metadata": {},
   "outputs": [],
   "source": [
    "optimizer = tf.optimizers.Adam(1e-4)"
   ]
  },
  {
   "cell_type": "markdown",
   "id": "6f136dbb-0887-43bb-8191-a467d8df5a5e",
   "metadata": {},
   "source": [
    "## 5.2 Establish Checkpoints"
   ]
  },
  {
   "cell_type": "code",
   "execution_count": 29,
   "id": "0c382846-d81a-41a5-aa95-f1010d0067ce",
   "metadata": {},
   "outputs": [],
   "source": [
    "checkpoint_dir = './training_checkpoints'\n",
    "checkpoint_prefix = os.path.join(checkpoint_dir, 'ckpt')\n",
    "checkpoint = tf.train.Checkpoint(opt=optimizer, siamese_model=siamese_model)"
   ]
  },
  {
   "cell_type": "markdown",
   "id": "bf109012-0528-4a81-ab01-70ba60c263f5",
   "metadata": {},
   "source": [
    "## 5.3 Build Train Step Function"
   ]
  },
  {
   "cell_type": "code",
   "execution_count": 30,
   "id": "92b6ee36-914b-463f-b4f8-df02a169e62e",
   "metadata": {},
   "outputs": [],
   "source": [
    "@tf.function\n",
    "def train_step(batch):\n",
    "    \n",
    "    with tf.GradientTape() as tape:\n",
    "        #get anchor and positive / negative image\n",
    "        X = batch[:2]\n",
    "        #get label\n",
    "        y = batch[2]\n",
    "        \n",
    "        #forward pass\n",
    "        yhat = siamese_model(X,training = True)\n",
    "        #calculate loss\n",
    "        loss = binary_crossentropy(y, yhat)\n",
    "        \n",
    "    #calculate gradients\n",
    "    grad = tape.gradient(loss, siamese_model.trainable_variables)\n",
    "    \n",
    "    #calculate updated weights and apply\n",
    "    optimizer.apply_gradients(zip(grad, siamese_model.trainable_variables)) \n",
    "\n",
    "    return loss"
   ]
  },
  {
   "cell_type": "markdown",
   "id": "44f4c7ec-71d2-44a3-a11d-036a6220dc99",
   "metadata": {},
   "source": [
    "## 5.4 Build Training Loop"
   ]
  },
  {
   "cell_type": "code",
   "execution_count": 31,
   "id": "34ce668e-9ca7-4dc8-bf37-d2c362cd1404",
   "metadata": {},
   "outputs": [],
   "source": [
    "def train(data, epochs):\n",
    "    for epoch in range(1, epochs+1):\n",
    "        print(f'\\n Epochs {epoch}/{epochs}')\n",
    "        progbar = tf.keras.utils.Progbar(len(data))\n",
    "        #progbar = tf.keras.utils.Progbar(len(data), stateful_metrics=['loss'])\n",
    "        \n",
    "        for idx, batch in enumerate(data):\n",
    "            loss = train_step(batch)\n",
    "            \n",
    "            progbar.update(idx+1)\n",
    "            #progbar.update(idx+1, values = loss.numpy())\n",
    "        \n",
    "        if epoch % 10 == 0:\n",
    "            checkpoint.save(file_prefix = checkpoint_prefix)"
   ]
  },
  {
   "cell_type": "markdown",
   "id": "754cd67f-2ecf-4bd4-864b-272d70b95510",
   "metadata": {},
   "source": [
    "## 5.5 Train the Model"
   ]
  },
  {
   "cell_type": "code",
   "execution_count": 84,
   "id": "85786b6d-9a07-478b-9e71-f1de421a2abf",
   "metadata": {},
   "outputs": [
    {
     "name": "stdout",
     "output_type": "stream",
     "text": [
      "\n",
      " Epochs 1/50\n",
      "27/27 [==============================] - 25s 935ms/step\n",
      "\n",
      " Epochs 2/50\n",
      "27/27 [==============================] - 25s 933ms/step\n",
      "\n",
      " Epochs 3/50\n",
      "27/27 [==============================] - 25s 955ms/step\n",
      "\n",
      " Epochs 4/50\n",
      "27/27 [==============================] - 26s 973ms/step\n",
      "\n",
      " Epochs 5/50\n",
      "27/27 [==============================] - 26s 992ms/step\n",
      "\n",
      " Epochs 6/50\n",
      "27/27 [==============================] - 26s 1s/step\n",
      "\n",
      " Epochs 7/50\n",
      "27/27 [==============================] - 27s 1s/step\n",
      "\n",
      " Epochs 8/50\n",
      "27/27 [==============================] - 26s 1s/step\n",
      "\n",
      " Epochs 9/50\n",
      "27/27 [==============================] - 27s 1s/step\n",
      "\n",
      " Epochs 10/50\n",
      "27/27 [==============================] - 27s 1s/step\n",
      "\n",
      " Epochs 11/50\n",
      "27/27 [==============================] - 26s 998ms/step\n",
      "\n",
      " Epochs 12/50\n",
      "27/27 [==============================] - 27s 1s/step\n",
      "\n",
      " Epochs 13/50\n",
      "27/27 [==============================] - 27s 1s/step\n",
      "\n",
      " Epochs 14/50\n",
      "27/27 [==============================] - 26s 1s/step\n",
      "\n",
      " Epochs 15/50\n",
      "27/27 [==============================] - 27s 1s/step\n",
      "\n",
      " Epochs 16/50\n",
      "27/27 [==============================] - 26s 1s/step\n",
      "\n",
      " Epochs 17/50\n",
      "27/27 [==============================] - 26s 1s/step\n",
      "\n",
      " Epochs 18/50\n",
      "27/27 [==============================] - 27s 1s/step\n",
      "\n",
      " Epochs 19/50\n",
      "27/27 [==============================] - 26s 1s/step\n",
      "\n",
      " Epochs 20/50\n",
      "27/27 [==============================] - 27s 1s/step\n",
      "\n",
      " Epochs 21/50\n",
      "27/27 [==============================] - 26s 1s/step\n",
      "\n",
      " Epochs 22/50\n",
      "27/27 [==============================] - 27s 1s/step\n",
      "\n",
      " Epochs 23/50\n",
      "27/27 [==============================] - 27s 1s/step\n",
      "\n",
      " Epochs 24/50\n",
      "27/27 [==============================] - 27s 1s/step\n",
      "\n",
      " Epochs 25/50\n",
      "27/27 [==============================] - 27s 1s/step\n",
      "\n",
      " Epochs 26/50\n",
      "27/27 [==============================] - 27s 1s/step\n",
      "\n",
      " Epochs 27/50\n",
      "27/27 [==============================] - 27s 1s/step\n",
      "\n",
      " Epochs 28/50\n",
      "27/27 [==============================] - 26s 1s/step\n",
      "\n",
      " Epochs 29/50\n",
      "27/27 [==============================] - 26s 1s/step\n",
      "\n",
      " Epochs 30/50\n",
      "27/27 [==============================] - 27s 1s/step\n",
      "\n",
      " Epochs 31/50\n",
      "27/27 [==============================] - 26s 1s/step\n",
      "\n",
      " Epochs 32/50\n",
      "27/27 [==============================] - 27s 1s/step\n",
      "\n",
      " Epochs 33/50\n",
      "27/27 [==============================] - 27s 1s/step\n",
      "\n",
      " Epochs 34/50\n",
      "27/27 [==============================] - 27s 1s/step\n",
      "\n",
      " Epochs 35/50\n",
      "27/27 [==============================] - 27s 1s/step\n",
      "\n",
      " Epochs 36/50\n",
      "27/27 [==============================] - 27s 1s/step\n",
      "\n",
      " Epochs 37/50\n",
      "27/27 [==============================] - 27s 1s/step\n",
      "\n",
      " Epochs 38/50\n",
      "27/27 [==============================] - 27s 1s/step\n",
      "\n",
      " Epochs 39/50\n",
      "27/27 [==============================] - 27s 1s/step\n",
      "\n",
      " Epochs 40/50\n",
      "27/27 [==============================] - 27s 1s/step\n",
      "\n",
      " Epochs 41/50\n",
      "27/27 [==============================] - 27s 1s/step\n",
      "\n",
      " Epochs 42/50\n",
      "27/27 [==============================] - 27s 1s/step\n",
      "\n",
      " Epochs 43/50\n",
      "27/27 [==============================] - 27s 1s/step\n",
      "\n",
      " Epochs 44/50\n",
      "27/27 [==============================] - 28s 1s/step\n",
      "\n",
      " Epochs 45/50\n",
      "27/27 [==============================] - 28s 1s/step\n",
      "\n",
      " Epochs 46/50\n",
      "27/27 [==============================] - 28s 1s/step\n",
      "\n",
      " Epochs 47/50\n",
      "27/27 [==============================] - 28s 1s/step\n",
      "\n",
      " Epochs 48/50\n",
      "27/27 [==============================] - 28s 1s/step\n",
      "\n",
      " Epochs 49/50\n",
      "27/27 [==============================] - 28s 1s/step\n",
      "\n",
      " Epochs 50/50\n",
      "27/27 [==============================] - 28s 1s/step\n"
     ]
    }
   ],
   "source": [
    "with tf.device('/GPU:1'):\n",
    "    train(train_data, 50)"
   ]
  },
  {
   "cell_type": "markdown",
   "id": "cc12c6a6-1711-46da-b816-6b59d8082f6a",
   "metadata": {},
   "source": [
    "# 6. Evaluate Model"
   ]
  },
  {
   "cell_type": "markdown",
   "id": "b6685c9c-eafa-485a-af9e-1e02b2bf6262",
   "metadata": {},
   "source": [
    "## 6.1 Make Predictions"
   ]
  },
  {
   "cell_type": "code",
   "execution_count": 115,
   "id": "8f7d8127-872e-4769-829f-723c9f08e838",
   "metadata": {},
   "outputs": [],
   "source": [
    "from tensorflow.keras.metrics import Recall, Precision\n",
    "\n",
    "test_input, test_val, y_true = test_data.as_numpy_iterator().next()"
   ]
  },
  {
   "cell_type": "code",
   "execution_count": 116,
   "id": "ee334692-3c16-49c1-907f-e62289409627",
   "metadata": {},
   "outputs": [
    {
     "data": {
      "text/plain": [
       "(16, 100, 100, 3)"
      ]
     },
     "execution_count": 116,
     "metadata": {},
     "output_type": "execute_result"
    }
   ],
   "source": [
    "test_input.shape"
   ]
  },
  {
   "cell_type": "code",
   "execution_count": 117,
   "id": "8c3b7009-a73f-48d9-86b0-b2f6fce85e01",
   "metadata": {},
   "outputs": [
    {
     "data": {
      "text/plain": [
       "array([[9.9948394e-01],\n",
       "       [9.9993694e-01],\n",
       "       [1.4455574e-07],\n",
       "       [3.2986257e-08],\n",
       "       [6.5542323e-09],\n",
       "       [9.9922359e-01],\n",
       "       [9.9999976e-01],\n",
       "       [7.2687105e-09],\n",
       "       [9.9999821e-01],\n",
       "       [2.6135052e-07],\n",
       "       [1.0000000e+00],\n",
       "       [1.3169476e-06],\n",
       "       [1.0049798e-06],\n",
       "       [7.5656041e-09],\n",
       "       [5.0032991e-08],\n",
       "       [1.4765882e-05]], dtype=float32)"
      ]
     },
     "execution_count": 117,
     "metadata": {},
     "output_type": "execute_result"
    }
   ],
   "source": [
    "y_pred = siamese_model.predict([test_input, test_val])\n",
    "y_pred"
   ]
  },
  {
   "cell_type": "code",
   "execution_count": 118,
   "id": "07d38e02-ff0c-474a-9e71-dc27d5decdb6",
   "metadata": {},
   "outputs": [
    {
     "data": {
      "text/plain": [
       "[1, 1, 0, 0, 0, 1, 1, 0, 1, 0, 1, 0, 0, 0, 0, 0]"
      ]
     },
     "execution_count": 118,
     "metadata": {},
     "output_type": "execute_result"
    }
   ],
   "source": [
    "[1 if prediction > 0.5 else 0 for prediction in y_pred]"
   ]
  },
  {
   "cell_type": "code",
   "execution_count": 119,
   "id": "6647a1cb-114b-4e6d-a91f-037182ed59d7",
   "metadata": {},
   "outputs": [
    {
     "data": {
      "text/plain": [
       "array([1., 1., 0., 0., 0., 1., 1., 0., 1., 0., 1., 0., 0., 0., 0., 0.],\n",
       "      dtype=float32)"
      ]
     },
     "execution_count": 119,
     "metadata": {},
     "output_type": "execute_result"
    }
   ],
   "source": [
    "y_true"
   ]
  },
  {
   "cell_type": "markdown",
   "id": "44824812-37f7-4b74-9c17-d264d5ee696f",
   "metadata": {},
   "source": [
    "## 6.2 Calculate Metrics"
   ]
  },
  {
   "cell_type": "code",
   "execution_count": 120,
   "id": "ac6295e9-3c3d-46c4-946a-24c0a5ccc7fa",
   "metadata": {},
   "outputs": [
    {
     "data": {
      "text/plain": [
       "1.0"
      ]
     },
     "execution_count": 120,
     "metadata": {},
     "output_type": "execute_result"
    }
   ],
   "source": [
    "recall = Recall()\n",
    "recall.update_state(y_true, y_pred)\n",
    "recall.result().numpy()"
   ]
  },
  {
   "cell_type": "code",
   "execution_count": 121,
   "id": "7744e9e8-8def-40da-932a-f952478fdbaa",
   "metadata": {},
   "outputs": [
    {
     "data": {
      "text/plain": [
       "1.0"
      ]
     },
     "execution_count": 121,
     "metadata": {},
     "output_type": "execute_result"
    }
   ],
   "source": [
    "precision = Precision()\n",
    "precision.update_state(y_true, y_pred)\n",
    "precision.result().numpy()"
   ]
  },
  {
   "cell_type": "markdown",
   "id": "abe28db3-aa40-4b29-bc9c-e93f0696a12e",
   "metadata": {},
   "source": [
    "## 6.3 Viz Results"
   ]
  },
  {
   "cell_type": "code",
   "execution_count": 125,
   "id": "84005cec-698f-4b68-bb13-dfe58f89b0c7",
   "metadata": {},
   "outputs": [
    {
     "data": {
      "text/plain": [
       "<matplotlib.image.AxesImage at 0x1a1d29626d0>"
      ]
     },
     "execution_count": 125,
     "metadata": {},
     "output_type": "execute_result"
    },
    {
     "data": {
      "image/png": "[encoded data removed]",
      "text/plain": [
       "<Figure size 1296x576 with 2 Axes>"
      ]
     },
     "metadata": {
      "needs_background": "light"
     },
     "output_type": "display_data"
    }
   ],
   "source": [
    "plt.figure(figsize = (18,8))\n",
    "plt.subplot(1,2,1)\n",
    "plt.imshow(test_input[2])\n",
    "plt.subplot(1,2,2)\n",
    "plt.imshow(test_val[2])"
   ]
  },
  {
   "cell_type": "markdown",
   "id": "1d1651a1-fe47-4b4c-9c27-613fd1e5c1ad",
   "metadata": {},
   "source": [
    "# 7. Save Model"
   ]
  },
  {
   "cell_type": "code",
   "execution_count": 126,
   "id": "f611ce33-2f6c-4745-a981-01f1ae11c4bc",
   "metadata": {},
   "outputs": [],
   "source": [
    "siamese_model.save('siamesemodel.h5')"
   ]
  },
  {
   "cell_type": "code",
   "execution_count": 32,
   "id": "d9d3083c-815b-4b11-abec-781c3ebda50f",
   "metadata": {},
   "outputs": [
    {
     "name": "stdout",
     "output_type": "stream",
     "text": [
      "WARNING:tensorflow:No training configuration found in the save file, so the model was *not* compiled. Compile it manually.\n"
     ]
    }
   ],
   "source": [
    "model = tf.keras.models.load_model('siamesemodel.h5', custom_objects={'L1Dist':L1Dist, 'BinaryCrossentropy':tf.losses.BinaryCrossentropy})#l1 custom olduğundan yüklememiz lazım"
   ]
  },
  {
   "cell_type": "code",
   "execution_count": 33,
   "id": "6cf16db0-e20e-49aa-b647-e74cf1d60eb2",
   "metadata": {},
   "outputs": [
    {
     "name": "stdout",
     "output_type": "stream",
     "text": [
      "Model: \"SiameseNetwork\"\n",
      "__________________________________________________________________________________________________\n",
      "Layer (type)                    Output Shape         Param #     Connected to                     \n",
      "==================================================================================================\n",
      "input_img (InputLayer)          [(None, 100, 100, 3) 0                                            \n",
      "__________________________________________________________________________________________________\n",
      "validation_img (InputLayer)     [(None, 100, 100, 3) 0                                            \n",
      "__________________________________________________________________________________________________\n",
      "embeding (Functional)           (None, 4096)         38960448    input_img[0][0]                  \n",
      "                                                                 validation_img[0][0]             \n",
      "__________________________________________________________________________________________________\n",
      "l1_dist_2 (L1Dist)              (None, 4096)         0           embeding[0][0]                   \n",
      "                                                                 embeding[1][0]                   \n",
      "__________________________________________________________________________________________________\n",
      "dense_5 (Dense)                 (None, 1)            4097        l1_dist_2[0][0]                  \n",
      "==================================================================================================\n",
      "Total params: 38,964,545\n",
      "Trainable params: 38,964,545\n",
      "Non-trainable params: 0\n",
      "__________________________________________________________________________________________________\n"
     ]
    }
   ],
   "source": [
    "model.summary()"
   ]
  },
  {
   "cell_type": "markdown",
   "id": "5007c53c-2d96-4f83-ae89-72da982abae6",
   "metadata": {},
   "source": [
    "# 8. Real Time Test"
   ]
  },
  {
   "cell_type": "code",
   "execution_count": null,
   "id": "cdd4513d-6cd8-4a7c-a61c-fb006c5c33e4",
   "metadata": {},
   "outputs": [],
   "source": [
    "#buna ek yüz bulup onu sorgulasın"
   ]
  },
  {
   "cell_type": "markdown",
   "id": "ba5cebe2-6f0a-491a-b77c-02969276f03c",
   "metadata": {},
   "source": [
    "# 8.1 Verification Function"
   ]
  },
  {
   "cell_type": "code",
   "execution_count": 69,
   "id": "1ee19ecc-614a-4676-85f8-884fb44729a4",
   "metadata": {},
   "outputs": [],
   "source": [
    "def verify(model, detection_threshold, verification_threshold):\n",
    "    results = []\n",
    "    \n",
    "    for image in os.listdir(os.path.join('application_data', 'verification_images')):\n",
    "        input_image = preprocess(os.path.join('app','application_data', 'input_image', 'input_image.jpg'))\n",
    "        valid_image = preprocess(os.path.join('app','application_data', 'verification_images', image))\n",
    "        \n",
    "        result = model.predict(list(np.expand_dims([input_image, valid_image], axis = 1)))\n",
    "        results.append(result)\n",
    "        \n",
    "    detection = np.sum(np.array(results) > detection_threshold)\n",
    "    verification = detection / len(os.listdir(os.path.join('application_data', 'verification_images')))\n",
    "    print(verification, detection)\n",
    "    verified = verification > verification_threshold\n",
    "    \n",
    "    return results, verified"
   ]
  },
  {
   "cell_type": "markdown",
   "id": "30397119-ef76-4c69-8aa6-014f63291994",
   "metadata": {},
   "source": [
    "## 8.2 OpenCV Real Time Verification"
   ]
  },
  {
   "cell_type": "code",
   "execution_count": 91,
   "id": "5b1b7d45-2b01-4f15-84e6-38f780b8f863",
   "metadata": {
    "collapsed": true,
    "jupyter": {
     "outputs_hidden": true
    },
    "tags": []
   },
   "outputs": [
    {
     "name": "stdout",
     "output_type": "stream",
     "text": [
      "0.76 38\n",
      "False\n",
      "0.74 37\n",
      "False\n",
      "0.64 32\n",
      "False\n",
      "0.74 37\n",
      "False\n",
      "0.76 38\n",
      "False\n",
      "1.0 50\n",
      "True\n",
      "0.98 49\n",
      "True\n",
      "0.8 40\n",
      "False\n",
      "0.82 41\n",
      "False\n",
      "0.72 36\n",
      "False\n",
      "0.8 40\n",
      "False\n"
     ]
    }
   ],
   "source": [
    "cap = cv2.VideoCapture(0)\n",
    "\n",
    "while cap.isOpened():\n",
    "    ret, frame = cap.read()\n",
    "    reshape_frame = frame[100:350, 100:350]\n",
    "    \n",
    "    \n",
    "    cv2.imshow('frame', reshape_frame)\n",
    "    \n",
    "    if cv2.waitKey(10) & 0xFF == ord('e'):\n",
    "        cv2.imwrite(os.path.join('app','application_data', 'input_image', 'input_image.jpg'), reshape_frame)\n",
    "        results, verified = verify(model, 0.9, 0.8)\n",
    "        print(verified)\n",
    "    \n",
    "    \n",
    "    if cv2.waitKey(10) & 0xFF == ord('q'):\n",
    "        break\n",
    "\n",
    "cap.release()\n",
    "cv2.destroyAllWindows()"
   ]
  },
  {
   "cell_type": "code",
   "execution_count": 75,
   "id": "49e421d3-4416-43cf-b939-4447ff75498a",
   "metadata": {},
   "outputs": [],
   "source": [
    "cap.release()\n",
    "cv2.destroyAllWindows()"
   ]
  }
 ],
 "metadata": {
  "kernelspec": {
   "display_name": "Python 3",
   "language": "python",
   "name": "python3"
  },
  "language_info": {
   "codemirror_mode": {
    "name": "ipython",
    "version": 3
   },
   "file_extension": ".py",
   "mimetype": "text/x-python",
   "name": "python",
   "nbconvert_exporter": "python",
   "pygments_lexer": "ipython3",
   "version": "3.8.8"
  }
 },
 "nbformat": 4,
 "nbformat_minor": 5
}
